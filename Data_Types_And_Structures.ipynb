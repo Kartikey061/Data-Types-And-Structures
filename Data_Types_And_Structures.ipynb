{
  "nbformat": 4,
  "nbformat_minor": 0,
  "metadata": {
    "colab": {
      "provenance": []
    },
    "kernelspec": {
      "name": "python3",
      "display_name": "Python 3"
    },
    "language_info": {
      "name": "python"
    }
  },
  "cells": [
    {
      "cell_type": "markdown",
      "source": [],
      "metadata": {
        "id": "D0PoZaPjeur4"
      }
    },
    {
      "cell_type": "markdown",
      "source": [
        "# Data Types And Structures\n"
      ],
      "metadata": {
        "id": "PranPoGTe29n"
      }
    },
    {
      "cell_type": "markdown",
      "source": [
        "1. What are data structures, and why are they important?\n",
        "  - Data structure\n",
        "      - Data structure are like containers , which can store tha data and with the help of data structure we can acces the collection of our data. Different types of containers are use for different types of item.\n",
        "  - Importance\n",
        "      - when we choose the right data structure, it impacts the efficiency and performance of your program.\n",
        "      - we can add, remove and modify the elements simply.\n",
        "      - structures can optimize and sorting the operations.\n",
        "      - it is important for fast searching and processing.\n",
        "\n",
        "2. Explain the difference between mutable and immutable data types with     examples.\n",
        "  - Mutable data types\n",
        "    - mutables data types are that we can change the value. It update the value directly. It is fast for changes in example:- dict,list and set.\n",
        "  - Immutable data types\n",
        "    - these are tha data types we can't change the value of object. If you update the object it will become the new object, example:- string, tuples,integer.\n",
        "\n",
        "3. What are the main differences between lists and tuples in Python?\n",
        "  - Lists are mutable but tuples are immutable.\n",
        "  - List is used when data may change, Tuple is used when data is constant.\n",
        "  - List has many methods like append, remove, sort, but Tuple has only count and index.\n",
        "  \n",
        "4. Describe how dictionaries store data?\n",
        "- In python, dictionaries stores the data with pairs of key and value. The values decide the storage location in the internal table.\n",
        "\n",
        "5. Why might you use a set instead of a list in Python?\n",
        " - We use set because set are immutable and nobody can change the data in the data sheet and it only carry unique elements but list are mutable so in our data there is always a way to changing or modifying or update it.\n",
        "\n",
        "6. What is a string in Python, and how is it different from a list?\n",
        " - In string, Characters arranged in an unchangeable order. it uses for writing a sentence, a paragraph, or a piece of material.\n",
        " - Difference:-\n",
        "    - Strings are immutable but lists are mutable.\n",
        "    - string can only stored characters but list store different data types\n",
        "    - List is used for general data collection and strings are use for handling text and characters.\n",
        "    \n",
        "7. How do tuples ensure data integrity in Python?    \n",
        "  - tuples ensure data integrity because they are immutable and protectect data from accidently changes.\n",
        "\n",
        "8. What is a hash table, and how does it relate to dictionaries in Python?\n",
        "  - A hash table is a data structure that maps keys to values using hash functions. Python dictionaries are built on hash tables.\n",
        "\n",
        "9. Can lists contain different data types in Python?\n",
        "  - yes list contains differnet data types like,(string,boolean value,integer,float).\n",
        "\n",
        "10. Explain why strings are immutable in Python?\n",
        "   - Strings are immutable because they ensures memory efficiency and protects data from accidental changes.\n",
        "\n",
        "11. What advantages do dictionaries offer over lists for certain tasks?\n",
        "   - Dictionaries are better than lists for fast access, labeled data, unique keys, and scalable key-based operations.\n",
        "\n",
        "12. Describe a scenario where using a tuple would be preferable over a list?\n",
        "   - Tuples are faster than lists. The values in tuples are fixed but in lists, theyare changable. If you use a tuple, Python will keep them safe and also faster to access. If you used a list, someone might accidentally change the coordinates, which can be not good.Thats why, using tuples are preferable over lists.\n",
        "\n",
        "13. How do sets handle duplicate values in Python?\n",
        "   - Sets automatically remove duplicate value by default , if you try either , sets will only store unique characters.\n",
        "\n",
        "14. How does the “in” keyword work differently for lists and dictionaries?\n",
        "   - In list, “in” keyword check the presence of an element , whether it present in the list or not.\n",
        "   - In dictionaries, “in” keyword used for check only the key components not the value.\n",
        "\n",
        "15. Can you modify the elements of a tuple? Explain why or why not?\n",
        "   - No we can't modify the elements in tuple because are tuples immutable. once you store an element in tuples, that will be unchanged.\n",
        "\n",
        "16. What is a nested dictionary, and give an example of its use case.\n",
        "   - A nested dictionary means having a dictionary inside another dictionary.\n",
        "   - Use case is like we want to store information of many students, where each student has their own details (name, age, course).There we can use nested dictionary.\n",
        "\n",
        "17. Describe the time complexity of accessing elements in a dictionary  \n",
        "  - Accessing elements in a Python dictionary takes O(1) on average (constant time) and O(n) in the rare worst case.\n",
        "\n",
        "18. In what situations are lists preferred over dictionaries?\n",
        " - Order matters (like steps in a recipe).\n",
        "\n",
        "   -    You don’t need labels or keys.\n",
        "   -   Duplicates are fine.\n",
        "   -   You’re looping through everything in sequence.\n",
        "    - You want something lightweight and simple.\n",
        "19. Why are dictionaries considered unordered, and how does that affect data retrieval?\n",
        "  - Dictionaries are considered unordered because, traditionally, they didn’t guarantee any specific order of their key–value pairs. that affect data retrioeval in example, looking something up by its label (key) always works, no matter the order. They are designed mainly for quick label-based lookups, not for keeping a perfect sequence like a list would.\n",
        "\n",
        "20. Explain the difference between a list and a dictionary in terms of data retrieval?\n",
        "-  List\n",
        "\n",
        "   - A list stores items in a specific order, and you retrieve data by its position (index).Retrieval is fast if you know the index, but you must remember the exact position.\n",
        "\n",
        " - Dictionary\n",
        "\n",
        "   - A dictionary stores data as key–value pairs, and you retrieve data using a key instead of a position. This makes dictionaries better when you need quick lookups based on a unique identifier, not an item’s position.  "
      ],
      "metadata": {
        "id": "kEYvPqRZfEeu"
      }
    },
    {
      "cell_type": "code",
      "source": [
        "#1. Write a code to create a string with your name and print it.\n",
        "name = \"Kartikey\"\n",
        "print(name)"
      ],
      "metadata": {
        "colab": {
          "base_uri": "https://localhost:8080/"
        },
        "id": "qEccvqIhltUq",
        "outputId": "1c1b3b8b-7ac3-4690-afbd-a276b5ed2223"
      },
      "execution_count": 1,
      "outputs": [
        {
          "output_type": "stream",
          "name": "stdout",
          "text": [
            "Kartikey\n"
          ]
        }
      ]
    },
    {
      "cell_type": "code",
      "source": [
        "#2.  Write a code to find the length of the string \"Hello World\"\n",
        "quote = \"Hello World\"\n",
        "print(len(quote))"
      ],
      "metadata": {
        "colab": {
          "base_uri": "https://localhost:8080/"
        },
        "id": "xDgKJ6Swl5MY",
        "outputId": "b7a2ca26-8922-4f4c-f4e4-29f373df935c"
      },
      "execution_count": 2,
      "outputs": [
        {
          "output_type": "stream",
          "name": "stdout",
          "text": [
            "11\n"
          ]
        }
      ]
    },
    {
      "cell_type": "code",
      "source": [
        "#3. Write a code to slice the first 3 characters from the string \"Python Programming\"\n",
        "string = \"Python Programming\"\n",
        "print(string[0:3])"
      ],
      "metadata": {
        "colab": {
          "base_uri": "https://localhost:8080/"
        },
        "id": "SlVGivgfl5Iz",
        "outputId": "7afb5ee1-2801-455f-baa8-daf052d69ec9"
      },
      "execution_count": 3,
      "outputs": [
        {
          "output_type": "stream",
          "name": "stdout",
          "text": [
            "Pyt\n"
          ]
        }
      ]
    },
    {
      "cell_type": "code",
      "source": [
        "#4. Write a code to convert the string \"hello\" to uppercase.\n",
        "string = \"hello\"\n",
        "print(string.upper())"
      ],
      "metadata": {
        "colab": {
          "base_uri": "https://localhost:8080/"
        },
        "id": "yYRXrN4bl5Gi",
        "outputId": "f0b4a60c-f454-4440-8391-6a402dd3f1e8"
      },
      "execution_count": 4,
      "outputs": [
        {
          "output_type": "stream",
          "name": "stdout",
          "text": [
            "HELLO\n"
          ]
        }
      ]
    },
    {
      "cell_type": "code",
      "source": [
        "#5. Write a code to replace the word \"apple\" with \"orange\" in the string \"I like apple\"\n",
        "string = \"I like apple\"\n",
        "print(string.replace(\"apple\",\"orange\"))"
      ],
      "metadata": {
        "colab": {
          "base_uri": "https://localhost:8080/"
        },
        "id": "2h_WhCn5l5EB",
        "outputId": "55ba5b25-f468-4e27-c8ce-76336b2d2eec"
      },
      "execution_count": 5,
      "outputs": [
        {
          "output_type": "stream",
          "name": "stdout",
          "text": [
            "I like orange\n"
          ]
        }
      ]
    },
    {
      "cell_type": "code",
      "source": [
        "#6. Write a code to create a list with numbers 1 to 5 and print it.\n",
        "list = [1,2,3,4,5]\n",
        "print(list)"
      ],
      "metadata": {
        "colab": {
          "base_uri": "https://localhost:8080/"
        },
        "id": "cu6glYS4l46M",
        "outputId": "e6dfc0d8-ac84-4ccd-9dd4-86e968d1f524"
      },
      "execution_count": 6,
      "outputs": [
        {
          "output_type": "stream",
          "name": "stdout",
          "text": [
            "[1, 2, 3, 4, 5]\n"
          ]
        }
      ]
    },
    {
      "cell_type": "code",
      "source": [
        "#7. Write a code to append the number 10 to the list [1, 2, 3, 4]\n",
        "list = [1,2,3,4]\n",
        "list.append(10)\n",
        "print(list)"
      ],
      "metadata": {
        "colab": {
          "base_uri": "https://localhost:8080/"
        },
        "id": "GX5UwZlql42q",
        "outputId": "23f1693c-7525-45f3-88ec-6aff70beaedb"
      },
      "execution_count": 7,
      "outputs": [
        {
          "output_type": "stream",
          "name": "stdout",
          "text": [
            "[1, 2, 3, 4, 10]\n"
          ]
        }
      ]
    },
    {
      "cell_type": "code",
      "source": [
        "#8. Write a code to remove the number 3 from the list [1, 2, 3, 4, 5]\n",
        "list = [1,2,3,4,5]\n",
        "list.remove(3)\n",
        "print(list)"
      ],
      "metadata": {
        "colab": {
          "base_uri": "https://localhost:8080/"
        },
        "id": "CjL73S4dl40D",
        "outputId": "eed485bb-07a1-4086-93e2-a496430ab8da"
      },
      "execution_count": 8,
      "outputs": [
        {
          "output_type": "stream",
          "name": "stdout",
          "text": [
            "[1, 2, 4, 5]\n"
          ]
        }
      ]
    },
    {
      "cell_type": "code",
      "source": [
        "#9. Write a code to access the second element in the list ['a', 'b', 'c', 'd']\n",
        "list = ['a', 'b', 'c', 'd']\n",
        "print(list[1])"
      ],
      "metadata": {
        "colab": {
          "base_uri": "https://localhost:8080/"
        },
        "id": "Tc2CUxGql4xV",
        "outputId": "20692f2b-8685-4330-eeb3-e6824ea3b963"
      },
      "execution_count": 9,
      "outputs": [
        {
          "output_type": "stream",
          "name": "stdout",
          "text": [
            "b\n"
          ]
        }
      ]
    },
    {
      "cell_type": "code",
      "source": [
        "#10. Write a code to reverse the list [10, 20, 30, 40, 50]\n",
        "list = [10, 20, 30, 40, 50]\n",
        "print(list[::-1])"
      ],
      "metadata": {
        "colab": {
          "base_uri": "https://localhost:8080/"
        },
        "id": "EvKbG9iSl4uN",
        "outputId": "1dfa4c0d-72ef-44de-b6f5-468e47e1e41b"
      },
      "execution_count": 10,
      "outputs": [
        {
          "output_type": "stream",
          "name": "stdout",
          "text": [
            "[50, 40, 30, 20, 10]\n"
          ]
        }
      ]
    },
    {
      "cell_type": "code",
      "source": [
        "#11. Write a code to create a tuple with the elements 100, 200, 300 and print it.\n",
        "tuple = (100,200,300)\n",
        "print(tuple)"
      ],
      "metadata": {
        "colab": {
          "base_uri": "https://localhost:8080/"
        },
        "id": "CJKGN0jhl4jE",
        "outputId": "5805f0da-442e-40e2-fa19-c24d2d1ae0ae"
      },
      "execution_count": 11,
      "outputs": [
        {
          "output_type": "stream",
          "name": "stdout",
          "text": [
            "(100, 200, 300)\n"
          ]
        }
      ]
    },
    {
      "cell_type": "code",
      "source": [
        "#12. Write a code to access the second-to-last element of the tuple ('red', 'green', 'blue', 'yellow').\n",
        "tuple = ('red', 'green', 'blue', 'yellow')\n",
        "print (tuple[1:5])"
      ],
      "metadata": {
        "colab": {
          "base_uri": "https://localhost:8080/"
        },
        "id": "wrFHOcT3l4Ou",
        "outputId": "b929e9f8-080c-401e-9a23-85456a377d2f"
      },
      "execution_count": 12,
      "outputs": [
        {
          "output_type": "stream",
          "name": "stdout",
          "text": [
            "('green', 'blue', 'yellow')\n"
          ]
        }
      ]
    },
    {
      "cell_type": "code",
      "source": [
        "#13.  Write a code to find the minimum number in the tuple (10, 20, 5, 15).\n",
        "tuple = (10, 20, 5, 15)\n",
        "print(min(tuple))"
      ],
      "metadata": {
        "colab": {
          "base_uri": "https://localhost:8080/"
        },
        "id": "Xt7d9ETymkTN",
        "outputId": "e08e977b-8b8c-4253-88b3-148ef69c72ee"
      },
      "execution_count": 13,
      "outputs": [
        {
          "output_type": "stream",
          "name": "stdout",
          "text": [
            "5\n"
          ]
        }
      ]
    },
    {
      "cell_type": "code",
      "source": [
        "#14.  Write a code to find the index of the element \"cat\" in the tuple ('dog', 'cat', 'rabbit').\n",
        "tuple = ('dog', 'cat', 'rabbit')\n",
        "print(tuple.index(\"cat\"))"
      ],
      "metadata": {
        "colab": {
          "base_uri": "https://localhost:8080/"
        },
        "id": "bYsCVtdrmlkW",
        "outputId": "b74deeac-3428-4381-9052-2b86154f77b5"
      },
      "execution_count": 14,
      "outputs": [
        {
          "output_type": "stream",
          "name": "stdout",
          "text": [
            "1\n"
          ]
        }
      ]
    },
    {
      "cell_type": "code",
      "source": [
        "#15. Write a code to create a tuple containing three different fruits and check if \"kiwi\" is in it.\n",
        "tuple = (\"apple\",\"banana\",\"kiwi\")\n",
        "print(\"kiwi\" in tuple)"
      ],
      "metadata": {
        "colab": {
          "base_uri": "https://localhost:8080/"
        },
        "id": "q2iMuDfDmliK",
        "outputId": "fc3a167d-4237-4995-c124-74163daa5117"
      },
      "execution_count": 15,
      "outputs": [
        {
          "output_type": "stream",
          "name": "stdout",
          "text": [
            "True\n"
          ]
        }
      ]
    },
    {
      "cell_type": "code",
      "source": [
        "#16. Write a code to create a set with the elements 'a', 'b', 'c' and print it.\n",
        "set = {\"a\",\"b\",\"c\"}\n",
        "print(set)"
      ],
      "metadata": {
        "colab": {
          "base_uri": "https://localhost:8080/"
        },
        "id": "f6m2s3tQmlgf",
        "outputId": "12bf6f56-54b9-4d68-b657-d8fdafdd88ea"
      },
      "execution_count": 16,
      "outputs": [
        {
          "output_type": "stream",
          "name": "stdout",
          "text": [
            "{'a', 'c', 'b'}\n"
          ]
        }
      ]
    },
    {
      "cell_type": "code",
      "source": [
        "#17. Write a code to clear all elements from the set {1, 2, 3, 4, 5}.\n",
        "set = {1, 2, 3, 4, 5}\n",
        "set.clear()\n",
        "print(set)"
      ],
      "metadata": {
        "colab": {
          "base_uri": "https://localhost:8080/"
        },
        "id": "82GRSJ59mleO",
        "outputId": "f8398312-6077-4cc3-d1f4-60480b48e07b"
      },
      "execution_count": 17,
      "outputs": [
        {
          "output_type": "stream",
          "name": "stdout",
          "text": [
            "set()\n"
          ]
        }
      ]
    },
    {
      "cell_type": "code",
      "source": [
        "#18. Write a code to remove the element 4 from the set {1, 2, 3, 4}.\n",
        "set = {1, 2, 3, 4}\n",
        "set.remove(4)\n",
        "print(set)\n"
      ],
      "metadata": {
        "colab": {
          "base_uri": "https://localhost:8080/"
        },
        "id": "UeeIQUWopLK1",
        "outputId": "1acf378c-d8f6-4082-e4ce-56e8b7f61380"
      },
      "execution_count": 33,
      "outputs": [
        {
          "output_type": "stream",
          "name": "stdout",
          "text": [
            "{1, 2, 3}\n"
          ]
        }
      ]
    },
    {
      "cell_type": "code",
      "source": [
        "#19. Write a code to find the union of two sets {1, 2, 3} and {3, 4, 5}.\n",
        "set1 = {1, 2, 3}\n",
        "set2 = {3, 4, 5}\n",
        "print(set1.union(set2))"
      ],
      "metadata": {
        "colab": {
          "base_uri": "https://localhost:8080/"
        },
        "id": "dE-ocJGjmlaF",
        "outputId": "b987397a-c4d2-41eb-b026-1c7dc4ef42d5"
      },
      "execution_count": 19,
      "outputs": [
        {
          "output_type": "stream",
          "name": "stdout",
          "text": [
            "{1, 2, 3, 4, 5}\n"
          ]
        }
      ]
    },
    {
      "cell_type": "code",
      "source": [
        "#20.  Write a code to find the intersection of two sets {1, 2, 3} and {2, 3, 4}\n",
        "set1 = {1, 2, 3}\n",
        "set2 = {2, 3, 4}\n",
        "print(set1 & set2)"
      ],
      "metadata": {
        "colab": {
          "base_uri": "https://localhost:8080/"
        },
        "id": "cxCqtFDZmkRr",
        "outputId": "d1d39a07-ad45-4349-b4b5-4c70dab6e8eb"
      },
      "execution_count": 20,
      "outputs": [
        {
          "output_type": "stream",
          "name": "stdout",
          "text": [
            "{2, 3}\n"
          ]
        }
      ]
    },
    {
      "cell_type": "code",
      "source": [
        "#21. Write a code to create a dictionary with the keys \"name\", \"age\", and \"city\", and print it.\n",
        "dict = {\"name\":\"kartikey\",\"age\":20,\"city\":\"pune\"}\n",
        "print(dict)"
      ],
      "metadata": {
        "colab": {
          "base_uri": "https://localhost:8080/"
        },
        "id": "Htquq7YSmkPT",
        "outputId": "5c5f8d24-5074-4f21-96b4-e567fa39300e"
      },
      "execution_count": 21,
      "outputs": [
        {
          "output_type": "stream",
          "name": "stdout",
          "text": [
            "{'name': 'kartikey', 'age': 20, 'city': 'pune'}\n"
          ]
        }
      ]
    },
    {
      "cell_type": "code",
      "source": [
        "#22. Write a code to add a new key-value pair \"country\": \"USA\" to the dictionary {'name': 'John', 'age': 25}.\n",
        "dictionary = {'name': 'John', 'age': 25}\n",
        "dictionary[\"country\"] = \"USA\"\n",
        "print(dictionary)"
      ],
      "metadata": {
        "colab": {
          "base_uri": "https://localhost:8080/"
        },
        "id": "cul0Dr9HmkLY",
        "outputId": "2a4c3a20-be21-4762-8bee-28e65c34d41c"
      },
      "execution_count": 22,
      "outputs": [
        {
          "output_type": "stream",
          "name": "stdout",
          "text": [
            "{'name': 'John', 'age': 25, 'country': 'USA'}\n"
          ]
        }
      ]
    },
    {
      "cell_type": "code",
      "source": [
        "#23. Write a code to access the value associated with the key \"name\" in the dictionary {'name': 'Alice', 'age': 30}.\n",
        "dictionary = {'name': 'Alice', 'age': 30}\n",
        "print(dictionary[\"name\"])"
      ],
      "metadata": {
        "colab": {
          "base_uri": "https://localhost:8080/"
        },
        "id": "G5BGKVwQmkIx",
        "outputId": "4819f370-e740-4f3b-c367-8fad8d3010c6"
      },
      "execution_count": 23,
      "outputs": [
        {
          "output_type": "stream",
          "name": "stdout",
          "text": [
            "Alice\n"
          ]
        }
      ]
    },
    {
      "cell_type": "code",
      "source": [
        "#24. Write a code to remove the key \"age\" from the dictionary {'name': 'Bob', 'age': 22, 'city': 'New York'}.\n",
        "dictionary = {'name': 'Bob', 'age': 22, 'city': 'New York'}\n",
        "dictionary.pop(\"age\")\n",
        "print(dictionary)"
      ],
      "metadata": {
        "colab": {
          "base_uri": "https://localhost:8080/"
        },
        "id": "asWZ0DMmmkEt",
        "outputId": "7b10925f-a4f4-48a1-b046-2aed79ea027e"
      },
      "execution_count": 24,
      "outputs": [
        {
          "output_type": "stream",
          "name": "stdout",
          "text": [
            "{'name': 'Bob', 'city': 'New York'}\n"
          ]
        }
      ]
    },
    {
      "cell_type": "code",
      "source": [
        "#25. Write a code to check if the key \"city\" exists in the dictionary {'name': 'Alice', 'city': 'Paris'}.\n",
        "dictionary = {'name': 'Alice', 'city': 'Paris'}\n",
        "print(\"city\" in dictionary)"
      ],
      "metadata": {
        "colab": {
          "base_uri": "https://localhost:8080/"
        },
        "id": "5srIDixtmkCU",
        "outputId": "29374d20-9e1f-40b5-ab22-0fbe1af92bc6"
      },
      "execution_count": 25,
      "outputs": [
        {
          "output_type": "stream",
          "name": "stdout",
          "text": [
            "True\n"
          ]
        }
      ]
    },
    {
      "cell_type": "code",
      "source": [
        "#26. Write a code to create a list, a tuple, and a dictionary, and print them all.\n",
        "list = [1,2,3,4,5]\n",
        "tuple = (5,4,3,2,1)\n",
        "dictionary = {\"name\":\"kartikey\",\"age\":20,\"city\":\"goa\"}\n",
        "print(list)\n",
        "print(tuple)\n",
        "print(dictionary)"
      ],
      "metadata": {
        "colab": {
          "base_uri": "https://localhost:8080/"
        },
        "id": "sUPeWZzOmjx1",
        "outputId": "c6aac639-c348-49a6-821c-9c685bf031bd"
      },
      "execution_count": 31,
      "outputs": [
        {
          "output_type": "stream",
          "name": "stdout",
          "text": [
            "[1, 2, 3, 4, 5]\n",
            "(5, 4, 3, 2, 1)\n",
            "{'name': 'kartikey', 'age': 20, 'city': 'goa'}\n"
          ]
        }
      ]
    },
    {
      "cell_type": "code",
      "source": [
        "#27. Write a code to create a list of 5 random numbers between 1 and 100, sort it in ascending order, and print the result.\n",
        "list = [6, 9, 26, 74, 65]\n",
        "list.sort()\n",
        "print(list)"
      ],
      "metadata": {
        "colab": {
          "base_uri": "https://localhost:8080/"
        },
        "id": "EpEHD3U6nXsb",
        "outputId": "5cbc9030-c1fb-4566-bc73-f544ed3c8874"
      },
      "execution_count": 27,
      "outputs": [
        {
          "output_type": "stream",
          "name": "stdout",
          "text": [
            "[6, 9, 26, 65, 74]\n"
          ]
        }
      ]
    },
    {
      "cell_type": "code",
      "source": [
        "#28. Write a code to create a list with strings and print the element at the third index\n",
        "list = [\"apple\",\"banana\",\"chiku\"]\n",
        "print(list[2])"
      ],
      "metadata": {
        "colab": {
          "base_uri": "https://localhost:8080/"
        },
        "id": "JNeLLhIWnXq1",
        "outputId": "e03f2228-51f8-4032-895d-3124ef91888d"
      },
      "execution_count": 28,
      "outputs": [
        {
          "output_type": "stream",
          "name": "stdout",
          "text": [
            "chiku\n"
          ]
        }
      ]
    },
    {
      "cell_type": "code",
      "source": [
        "#29. Write a code to combine two dictionaries into one and print the result.\n",
        "dict1 = {\"name\": \"kartikey\", \"age\": 20, \"city\": \"etawah\"}\n",
        "dict2 = {\"name\": \"apurva\", \"age\": 19, \"city\": \"etawah\"}\n",
        "\n",
        "comb_dict = dict1 | dict2\n",
        "print(comb_dict)"
      ],
      "metadata": {
        "colab": {
          "base_uri": "https://localhost:8080/"
        },
        "id": "EV5JXkipnXoX",
        "outputId": "c5f264dd-9b46-4db7-91d6-b2169466bdf7"
      },
      "execution_count": 29,
      "outputs": [
        {
          "output_type": "stream",
          "name": "stdout",
          "text": [
            "{'name': 'apurva', 'age': 19, 'city': 'etawah'}\n"
          ]
        }
      ]
    },
    {
      "cell_type": "code",
      "source": [
        "#30. Write a code to convert a list of strings into a set.\n",
        "# List of strings\n",
        "my_list = [\"apple\", \"banana\", \"apple\"]\n",
        "\n",
        "# Convert to set\n",
        "my_set = set(my_list)\n",
        "\n",
        "print(my_set)"
      ],
      "metadata": {
        "colab": {
          "base_uri": "https://localhost:8080/"
        },
        "id": "LeMqs7_arGwO",
        "outputId": "ad5cbf6f-bbe0-4094-8c2b-c7fbbe8f8ea8"
      },
      "execution_count": 1,
      "outputs": [
        {
          "output_type": "stream",
          "name": "stdout",
          "text": [
            "{'apple', 'banana'}\n"
          ]
        }
      ]
    }
  ]
}